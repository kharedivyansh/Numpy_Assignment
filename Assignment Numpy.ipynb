{
 "cells": [
  {
   "cell_type": "markdown",
   "id": "d87d6986",
   "metadata": {},
   "source": [
    "1. What is a Python library? Why ^o we use Python libraries"
   ]
  },
  {
   "cell_type": "code",
   "execution_count": 4,
   "id": "f5825c08",
   "metadata": {},
   "outputs": [],
   "source": [
    "#Answer-1\n",
    "#A Python library is a collection of pre-written code modules that provide functionalities to accomplish specific tasks.\n",
    "#We use Python libraries to save time and effort by leveraging existing code for tasks like data analysis, web development, machine learning, \n",
    "#and more, rather than writing everything from scratch."
   ]
  },
  {
   "cell_type": "markdown",
   "id": "8aae4a33",
   "metadata": {},
   "source": [
    "2. What is the difference between Numpy array and List?"
   ]
  },
  {
   "cell_type": "code",
   "execution_count": 6,
   "id": "f9430716",
   "metadata": {},
   "outputs": [],
   "source": [
    "#Answer -2\n",
    "#NumPy arrays are memory efficient, \n",
    "#faster for numerical operations, and homogeneous, meaning they store elements of the same data type.\n",
    "#In contrast, lists are more versatile but less efficient for numerical computations and can store elements of different types."
   ]
  },
  {
   "cell_type": "markdown",
   "id": "d248e969",
   "metadata": {},
   "source": [
    "3. Find the shape, size and dimension of the following array?\n",
    "[[1, 2, 3, 4]\n",
    "[5, 6, 7, 8],\n",
    "[9, 10, 11, 12]]"
   ]
  },
  {
   "cell_type": "code",
   "execution_count": 12,
   "id": "80e1d857",
   "metadata": {},
   "outputs": [
    {
     "data": {
      "text/plain": [
       "array([[ 1,  2,  3,  4],\n",
       "       [ 5,  6,  7,  8],\n",
       "       [ 9, 10, 11, 12]])"
      ]
     },
     "execution_count": 12,
     "metadata": {},
     "output_type": "execute_result"
    }
   ],
   "source": [
    "import numpy as np\n",
    "array1 =np.array([[1, 2, 3, 4],[5, 6, 7, 8],[9, 10, 11, 12]]) \n",
    "array1\n"
   ]
  },
  {
   "cell_type": "code",
   "execution_count": 13,
   "id": "d51e30ce",
   "metadata": {},
   "outputs": [
    {
     "data": {
      "text/plain": [
       "(3, 4)"
      ]
     },
     "execution_count": 13,
     "metadata": {},
     "output_type": "execute_result"
    }
   ],
   "source": [
    "array1.shape"
   ]
  },
  {
   "cell_type": "code",
   "execution_count": 14,
   "id": "72e47005",
   "metadata": {},
   "outputs": [
    {
     "data": {
      "text/plain": [
       "12"
      ]
     },
     "execution_count": 14,
     "metadata": {},
     "output_type": "execute_result"
    }
   ],
   "source": [
    "array1.size"
   ]
  },
  {
   "cell_type": "code",
   "execution_count": 15,
   "id": "23ac2da3",
   "metadata": {},
   "outputs": [
    {
     "data": {
      "text/plain": [
       "2"
      ]
     },
     "execution_count": 15,
     "metadata": {},
     "output_type": "execute_result"
    }
   ],
   "source": [
    "array1.ndim"
   ]
  },
  {
   "cell_type": "markdown",
   "id": "a4847291",
   "metadata": {},
   "source": [
    "4. Write python code to access the first row of the following array?\n",
    "[[1, 2, 3, 4]\n",
    "[5, 6, 7, 8],\n",
    "[9, 10, 11, 12]]"
   ]
  },
  {
   "cell_type": "code",
   "execution_count": 16,
   "id": "bff08dce",
   "metadata": {},
   "outputs": [
    {
     "data": {
      "text/plain": [
       "array([[ 1,  2,  3,  4],\n",
       "       [ 5,  6,  7,  8],\n",
       "       [ 9, 10, 11, 12]])"
      ]
     },
     "execution_count": 16,
     "metadata": {},
     "output_type": "execute_result"
    }
   ],
   "source": [
    "array2 = np.array([[1,2,3,4],[5,6,7,8],[9,10,11,12]])\n",
    "array2"
   ]
  },
  {
   "cell_type": "code",
   "execution_count": 21,
   "id": "e6646113",
   "metadata": {},
   "outputs": [
    {
     "data": {
      "text/plain": [
       "array([1, 2, 3, 4])"
      ]
     },
     "execution_count": 21,
     "metadata": {},
     "output_type": "execute_result"
    }
   ],
   "source": [
    "array2[0]"
   ]
  },
  {
   "cell_type": "markdown",
   "id": "f79c502a",
   "metadata": {},
   "source": [
    "5. How do you access the element at the third row and fourth column from the given numpy array?\n",
    "[[1, 2, 3, 4]\n",
    "[5, 6, 7, 8],\n",
    "[9, 10, 11, 12]]"
   ]
  },
  {
   "cell_type": "code",
   "execution_count": 22,
   "id": "dee6caa2",
   "metadata": {},
   "outputs": [
    {
     "data": {
      "text/plain": [
       "array([[ 1,  2,  3,  4],\n",
       "       [ 5,  6,  7,  8],\n",
       "       [ 9, 10, 11, 12]])"
      ]
     },
     "execution_count": 22,
     "metadata": {},
     "output_type": "execute_result"
    }
   ],
   "source": [
    "array2"
   ]
  },
  {
   "cell_type": "code",
   "execution_count": 27,
   "id": "45f75f37",
   "metadata": {},
   "outputs": [
    {
     "data": {
      "text/plain": [
       "12"
      ]
     },
     "execution_count": 27,
     "metadata": {},
     "output_type": "execute_result"
    }
   ],
   "source": [
    "array2[2][3]"
   ]
  },
  {
   "cell_type": "markdown",
   "id": "2ca49b46",
   "metadata": {},
   "source": [
    "6. Write code to extract all odd-indexed elements from the given numpy array?\n",
    "[[1, 2, 3, 4]\n",
    "[5, 6, 7, 8],\n",
    "[9, 10, 11, 12]]"
   ]
  },
  {
   "cell_type": "code",
   "execution_count": 28,
   "id": "e48f41ca",
   "metadata": {},
   "outputs": [
    {
     "data": {
      "text/plain": [
       "array([[ 1,  2,  3,  4],\n",
       "       [ 5,  6,  7,  8],\n",
       "       [ 9, 10, 11, 12]])"
      ]
     },
     "execution_count": 28,
     "metadata": {},
     "output_type": "execute_result"
    }
   ],
   "source": [
    "array2"
   ]
  },
  {
   "cell_type": "code",
   "execution_count": 33,
   "id": "a6399ec9",
   "metadata": {},
   "outputs": [],
   "source": [
    "odd_indexed_element = array2[1::2,1::2]"
   ]
  },
  {
   "cell_type": "code",
   "execution_count": 34,
   "id": "59146cf3",
   "metadata": {},
   "outputs": [
    {
     "data": {
      "text/plain": [
       "array([[6, 8]])"
      ]
     },
     "execution_count": 34,
     "metadata": {},
     "output_type": "execute_result"
    }
   ],
   "source": [
    "odd_indexed_element"
   ]
  },
  {
   "cell_type": "markdown",
   "id": "26152004",
   "metadata": {},
   "source": [
    "7. How can you generate a random 3x3 matrix with values between 0 and 1?"
   ]
  },
  {
   "cell_type": "code",
   "execution_count": 38,
   "id": "7983e122",
   "metadata": {},
   "outputs": [
    {
     "data": {
      "text/plain": [
       "array([[0.9103952 , 0.59801979, 0.21507839],\n",
       "       [0.84643946, 0.03593779, 0.97449569],\n",
       "       [0.93344546, 0.37806895, 0.2137222 ]])"
      ]
     },
     "execution_count": 38,
     "metadata": {},
     "output_type": "execute_result"
    }
   ],
   "source": [
    "np.random.random((3,3))"
   ]
  },
  {
   "cell_type": "markdown",
   "id": "f7e8ef33",
   "metadata": {},
   "source": [
    "8. Describe the difference between np.random.rand and np.random.randn?"
   ]
  },
  {
   "cell_type": "code",
   "execution_count": 40,
   "id": "34f6a4b8",
   "metadata": {},
   "outputs": [],
   "source": [
    "#np.random.rand: Generates random numbers from a uniform distribution over the interval [0, 1).\n",
    "#np.random.randn: Generates random numbers from a standard normal distribution (mean=0, variance=1).\n"
   ]
  },
  {
   "cell_type": "markdown",
   "id": "ca02f553",
   "metadata": {},
   "source": [
    "9. Write code to increase the dimension of the following array?\n",
    "[[1, 2, 3, 4]\n",
    "[5, 6, 7, 8],\n",
    "[9, 10, 11, 12]]"
   ]
  },
  {
   "cell_type": "code",
   "execution_count": 43,
   "id": "cbaa92b4",
   "metadata": {},
   "outputs": [
    {
     "data": {
      "text/plain": [
       "array([[[ 1,  2,  3,  4],\n",
       "        [ 5,  6,  7,  8],\n",
       "        [ 9, 10, 11, 12]]])"
      ]
     },
     "execution_count": 43,
     "metadata": {},
     "output_type": "execute_result"
    }
   ],
   "source": [
    "arr3 = np.expand_dims(array2,axis = 0)\n",
    "#axis =0 means expanded over row\n",
    "arr3"
   ]
  },
  {
   "cell_type": "markdown",
   "id": "44eade28",
   "metadata": {},
   "source": [
    "10. How to transpose the following array in NumPy?\n",
    "[[1, 2, 3, 4]\n",
    "[5, 6, 7, 8],\n",
    "[9, 10, 11, 12]]"
   ]
  },
  {
   "cell_type": "code",
   "execution_count": 45,
   "id": "5738d79a",
   "metadata": {},
   "outputs": [
    {
     "data": {
      "text/plain": [
       "array([[ 1,  2,  3,  4],\n",
       "       [ 5,  6,  7,  8],\n",
       "       [ 9, 10, 11, 12]])"
      ]
     },
     "execution_count": 45,
     "metadata": {},
     "output_type": "execute_result"
    }
   ],
   "source": [
    "array2"
   ]
  },
  {
   "cell_type": "code",
   "execution_count": 47,
   "id": "46ac623e",
   "metadata": {},
   "outputs": [
    {
     "data": {
      "text/plain": [
       "array([[ 1,  5,  9],\n",
       "       [ 2,  6, 10],\n",
       "       [ 3,  7, 11],\n",
       "       [ 4,  8, 12]])"
      ]
     },
     "execution_count": 47,
     "metadata": {},
     "output_type": "execute_result"
    }
   ],
   "source": [
    "array2.T"
   ]
  },
  {
   "cell_type": "markdown",
   "id": "6ca3ef62",
   "metadata": {},
   "source": [
    "11. Consider the following matrix:\n",
    "Matrix A2 [[1, 2, 3, 4] [5, 6, 7, 8],[9, 10, 11, 12]]\n",
    "Matrix B2 [[1, 2, 3, 4] [5, 6, 7, 8],[9, 10, 11, 12]]"
   ]
  },
  {
   "cell_type": "code",
   "execution_count": 53,
   "id": "bb277ab1",
   "metadata": {},
   "outputs": [],
   "source": [
    "A2 =np.array( [[1, 2, 3, 4], [5, 6, 7, 8],[9, 10, 11, 12]])\n",
    "B2 = np.array([[1, 2, 3, 4], [5, 6, 7, 8],[9, 10, 11, 12]])"
   ]
  },
  {
   "cell_type": "code",
   "execution_count": 55,
   "id": "8ff8ccb6",
   "metadata": {},
   "outputs": [
    {
     "data": {
      "text/plain": [
       "array([[  1,   4,   9,  16],\n",
       "       [ 25,  36,  49,  64],\n",
       "       [ 81, 100, 121, 144]])"
      ]
     },
     "execution_count": 55,
     "metadata": {},
     "output_type": "execute_result"
    }
   ],
   "source": [
    "#1. Index wise multiplication\n",
    "A2*B2"
   ]
  },
  {
   "cell_type": "code",
   "execution_count": 62,
   "id": "3c590127",
   "metadata": {},
   "outputs": [
    {
     "data": {
      "text/plain": [
       "array([[ 30,  70, 110],\n",
       "       [ 70, 174, 278],\n",
       "       [110, 278, 446]])"
      ]
     },
     "execution_count": 62,
     "metadata": {},
     "output_type": "execute_result"
    }
   ],
   "source": [
    "#2 Matix multiplication\n",
    "#as we can see , we have to transpose one matrix because they have same shape that can cause error\n",
    "A2 @ B2.T"
   ]
  },
  {
   "cell_type": "code",
   "execution_count": 63,
   "id": "090f4f56",
   "metadata": {},
   "outputs": [
    {
     "data": {
      "text/plain": [
       "array([[ 2,  4,  6,  8],\n",
       "       [10, 12, 14, 16],\n",
       "       [18, 20, 22, 24]])"
      ]
     },
     "execution_count": 63,
     "metadata": {},
     "output_type": "execute_result"
    }
   ],
   "source": [
    "#3  Add both the matices\n",
    "A2 + B2"
   ]
  },
  {
   "cell_type": "code",
   "execution_count": 64,
   "id": "df591da9",
   "metadata": {},
   "outputs": [
    {
     "data": {
      "text/plain": [
       "array([[0, 0, 0, 0],\n",
       "       [0, 0, 0, 0],\n",
       "       [0, 0, 0, 0]])"
      ]
     },
     "execution_count": 64,
     "metadata": {},
     "output_type": "execute_result"
    }
   ],
   "source": [
    "#4 Subtact matix B from A\n",
    "B2 - A2"
   ]
  },
  {
   "cell_type": "code",
   "execution_count": 65,
   "id": "4f2e13bc",
   "metadata": {},
   "outputs": [
    {
     "data": {
      "text/plain": [
       "array([[1., 1., 1., 1.],\n",
       "       [1., 1., 1., 1.],\n",
       "       [1., 1., 1., 1.]])"
      ]
     },
     "execution_count": 65,
     "metadata": {},
     "output_type": "execute_result"
    }
   ],
   "source": [
    "#5 Divide Matix B by A\n",
    "B2/A2"
   ]
  },
  {
   "cell_type": "markdown",
   "id": "45a69c28",
   "metadata": {},
   "source": [
    "12. Which function in Numpy can be used to swap the byte order of an array?"
   ]
  },
  {
   "cell_type": "code",
   "execution_count": 66,
   "id": "52e3229f",
   "metadata": {},
   "outputs": [],
   "source": [
    "#In NumPy, we can use the byteswap() function to swap the byte order of an array. "
   ]
  },
  {
   "cell_type": "markdown",
   "id": "cd9188d7",
   "metadata": {},
   "source": [
    "13. What is the significance of the np.linalg.inv function?"
   ]
  },
  {
   "cell_type": "code",
   "execution_count": 67,
   "id": "6284b14f",
   "metadata": {},
   "outputs": [],
   "source": [
    "#The np.linalg.inv function in NumPy computes the multiplicative inverse of a square matrix"
   ]
  },
  {
   "cell_type": "markdown",
   "id": "0f496016",
   "metadata": {},
   "source": [
    "14. What does the np.reshape function do, and how is it used?"
   ]
  },
  {
   "cell_type": "code",
   "execution_count": 68,
   "id": "1bbd429d",
   "metadata": {},
   "outputs": [
    {
     "name": "stdout",
     "output_type": "stream",
     "text": [
      "[[1 2]\n",
      " [3 4]\n",
      " [5 6]]\n"
     ]
    }
   ],
   "source": [
    "#The np.reshape function in NumPy is used to change the shape of an array without changing its data.\n",
    "#np.reshape(array, new_shape)\n",
    "#for example\n",
    "import numpy as np\n",
    "\n",
    "# Create a 1D array\n",
    "arr = np.array([1, 2, 3, 4, 5, 6])\n",
    "\n",
    "# Reshape the 1D array into a 2D array with 3 rows and 2 columns\n",
    "new_arr = np.reshape(arr, (3, 2))\n",
    "\n",
    "print(new_arr)\n",
    "\n"
   ]
  },
  {
   "cell_type": "markdown",
   "id": "34cf19ae",
   "metadata": {},
   "source": [
    "15. What is broadcasting in Numpy?"
   ]
  },
  {
   "cell_type": "code",
   "execution_count": null,
   "id": "e66b23bf",
   "metadata": {},
   "outputs": [],
   "source": [
    "#Broadcasting in NumPy is a feature that allows arrays with different shapes to be used together in \n",
    "#arithmetic operations by automatically adjusting their shapes to make them compatible. "
   ]
  }
 ],
 "metadata": {
  "kernelspec": {
   "display_name": "Python 3 (ipykernel)",
   "language": "python",
   "name": "python3"
  },
  "language_info": {
   "codemirror_mode": {
    "name": "ipython",
    "version": 3
   },
   "file_extension": ".py",
   "mimetype": "text/x-python",
   "name": "python",
   "nbconvert_exporter": "python",
   "pygments_lexer": "ipython3",
   "version": "3.9.13"
  }
 },
 "nbformat": 4,
 "nbformat_minor": 5
}
